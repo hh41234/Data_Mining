{
 "cells": [
  {
   "cell_type": "code",
   "execution_count": 1,
   "metadata": {},
   "outputs": [
    {
     "name": "stderr",
     "output_type": "stream",
     "text": [
      "C:\\Users\\Lenovo\\AppData\\Local\\Temp\\ipykernel_2584\\3319590276.py:3: DtypeWarning: Columns (30) have mixed types. Specify dtype option on import or set low_memory=False.\n",
      "  df = pd.read_csv('train.csv')\n"
     ]
    }
   ],
   "source": [
    "import pandas as pd\n",
    "\n",
    "df = pd.read_csv('train.csv')"
   ]
  },
  {
   "cell_type": "code",
   "execution_count": 2,
   "metadata": {},
   "outputs": [
    {
     "name": "stdout",
     "output_type": "stream",
     "text": [
      "33538\n"
     ]
    }
   ],
   "source": [
    "print(len(df))"
   ]
  },
  {
   "cell_type": "code",
   "execution_count": 3,
   "metadata": {},
   "outputs": [
    {
     "data": {
      "text/plain": "Index(['id', 'name', 'summary', 'space', 'description', 'experiences_offered',\n       'neighborhood_overview', 'notes', 'transit', 'access', 'interaction',\n       'house_rules', 'host_id', 'host_name', 'host_since', 'host_location',\n       'host_about', 'host_response_time', 'host_response_rate',\n       'host_acceptance_rate', 'host_is_superhost', 'host_neighbourhood',\n       'host_listings_count', 'host_verifications', 'host_has_profile_pic',\n       'host_identity_verified', 'neighbourhood_cleansed',\n       'neighbourhood_group_cleansed', 'city', 'state', 'zipcode', 'market',\n       'country_code', 'country', 'property_type', 'room_type', 'accommodates',\n       'bathrooms', 'bedrooms', 'beds', 'bed_type', 'amenities', 'square_feet',\n       'price', 'guests_included', 'extra_people', 'minimum_nights',\n       'maximum_nights', 'number_of_reviews', 'first_review', 'last_review',\n       'review_scores_rating', 'review_scores_accuracy',\n       'review_scores_cleanliness', 'review_scores_checkin',\n       'review_scores_communication', 'review_scores_location',\n       'review_scores_value', 'instant_bookable', 'is_business_travel_ready',\n       'cancellation_policy', 'require_guest_profile_picture',\n       'require_guest_phone_verification', 'calculated_host_listings_count',\n       'reviews_per_month'],\n      dtype='object')"
     },
     "execution_count": 3,
     "metadata": {},
     "output_type": "execute_result"
    }
   ],
   "source": [
    "df.columns"
   ]
  },
  {
   "cell_type": "code",
   "execution_count": 4,
   "metadata": {},
   "outputs": [
    {
     "data": {
      "text/plain": "Real Bed         32907\nFuton              251\nPull-out Sofa      193\nAirbed             130\nCouch               57\nName: bed_type, dtype: int64"
     },
     "execution_count": 4,
     "metadata": {},
     "output_type": "execute_result"
    },
    {
     "data": {
      "text/plain": "<Figure size 640x480 with 1 Axes>",
      "image/png": "[encoded data removed]"
     },
     "metadata": {},
     "output_type": "display_data"
    }
   ],
   "source": [
    "df['price'].hist(bins = 1000)\n",
    "df['bed_type'].value_counts()"
   ]
  },
  {
   "cell_type": "code",
   "execution_count": 5,
   "metadata": {},
   "outputs": [
    {
     "name": "stdout",
     "output_type": "stream",
     "text": [
      "5\n"
     ]
    }
   ],
   "source": [
    "from math import isnan\n",
    "\n",
    "def to_float(s):\n",
    "    try:\n",
    "        ret = float(s)\n",
    "    except:\n",
    "        ret = -1\n",
    "    if isnan(ret):\n",
    "        ret = -1\n",
    "    return ret\n",
    "\n",
    "def to_int(s):\n",
    "    try:\n",
    "        ret = int(s)\n",
    "    except:\n",
    "        ret = -1\n",
    "    return ret\n",
    "\n",
    "def to_judge(s):\n",
    "    ret = -1\n",
    "    if s == \"t\":\n",
    "        ret = 1\n",
    "    if s == \"f\":\n",
    "        ret = 0\n",
    "    return ret\n",
    "\n",
    "def to_dollar(s):\n",
    "    try:\n",
    "        ret = to_float(s.replace(\"$\",\"\"))\n",
    "    except:\n",
    "        ret = -1\n",
    "    return ret\n",
    "def to_cannal(s):\n",
    "    ret = -1\n",
    "    if s == \"flexible\":\n",
    "        ret = 0\n",
    "    if s == \"moderate\":\n",
    "        ret = 1\n",
    "    if s == \"super_strict_60\":\n",
    "        ret = 2\n",
    "    if s == \"strict_14_with_grace_period\":\n",
    "        ret = 3\n",
    "    return ret\n",
    "\n",
    "def to_bed_type(s):\n",
    "    ret = -1\n",
    "    if s == \"Real Bed\":\n",
    "        ret = 0\n",
    "    if s == \"Futon\":\n",
    "        ret = 1\n",
    "    if s == \"Airbed\":\n",
    "        ret = 2\n",
    "    if s == \"Couch\":\n",
    "        ret = 3\n",
    "    return ret\n",
    "def to_room_type(s):\n",
    "    ret = -1\n",
    "    if s == \"Entire home/apt\":\n",
    "        ret = 0\n",
    "    if s == \"Private room\":\n",
    "        ret = 1\n",
    "    if s == \"Shared room\":\n",
    "        ret = 2\n",
    "    return ret\n",
    "\n",
    "def to_property_type(s):\n",
    "    ret = -1\n",
    "    if s == \"Apartment\":\n",
    "        ret = 0\n",
    "    if s == \"House\":\n",
    "        ret = 1\n",
    "    if s == \"Townhouse\":\n",
    "        ret = 2\n",
    "    if s == \"Loft\":\n",
    "        ret = 3\n",
    "    if s == \"Condominium\":\n",
    "        ret = 4\n",
    "    if s == \"Serviced apartment\":\n",
    "        ret = 5\n",
    "    if s == \"Guest suite\":\n",
    "        ret = 6\n",
    "    if s == \"Other\":\n",
    "        ret = 7\n",
    "    if s == \"Boutique hotel\":\n",
    "        ret = 8\n",
    "    if s == \"Bed and breakfast\":\n",
    "        ret = 9\n",
    "    if s == \"Resort\":\n",
    "        ret = 10\n",
    "    if s == \"Guesthouse\":\n",
    "        ret = 11\n",
    "    if s == \"Hostel\":\n",
    "        ret = 12\n",
    "    if s == \"Hotel\":\n",
    "        ret = 13\n",
    "    if s == \"Bungalow\":\n",
    "        ret = 14\n",
    "    if s == \"Villa\":\n",
    "        ret = 15\n",
    "    if s == \"Tiny house\":\n",
    "        ret = 16\n",
    "    if s == \"Aparthotel\":\n",
    "        ret = 17\n",
    "    if s == \"Boat\":\n",
    "        ret = 18\n",
    "    if s == \"Cottage\":\n",
    "        ret = 19\n",
    "    if s == \"Tent\":\n",
    "        ret = 20\n",
    "    if s == \"Camper/RV\":\n",
    "        ret = 21\n",
    "    return ret\n",
    "categories1 = [x for x in list(set(df['neighbourhood_group_cleansed'])) if type(x) is str]\n",
    "categories3 = [x for x in list(set(df['host_response_time'])) if type(x) is str]\n",
    "categories4 = [x for x in list(set(df['host_response_rate'])) if type(x) is str]\n",
    "categories13 = [x for x in list(set(df['cancellation_policy'])) if type(x) is str]\n",
    "\n",
    "print(len(categories1))\n",
    "\n",
    "def create_feature(row):\n",
    "    guest_num = to_int(row.guests_included)\n",
    "    guest_cap = to_dollar(row.extra_people)\n",
    "    bedrooms = to_int(row.bedrooms)\n",
    "    bathrooms = to_int(row.bathrooms)\n",
    "    accommodates = to_int(row.accommodates)\n",
    "    beds = to_int(row.beds)\n",
    "    zipcode = to_int(row.zipcode)\n",
    "    reviews_per_month = to_float(row.reviews_per_month)\n",
    "    review = to_float(row.review_scores_rating)\n",
    "    host_listings_count = to_int(row.host_listings_count)\n",
    "    review_scores_accuracy = to_int(row.review_scores_accuracy)\n",
    "    review_scores_communication = to_int(row.review_scores_communication)\n",
    "    review_scores_cleanliness = to_int(row.review_scores_cleanliness)\n",
    "    review_scores_checkin = to_int(row.review_scores_checkin)\n",
    "    review_scores_value = to_int(row.review_scores_value)\n",
    "    minimum_nights = to_int(row.minimum_nights)\n",
    "    maximum_nights = to_int(row.maximum_nights)\n",
    "    number_of_reviews = to_int(row.number_of_reviews)\n",
    "    is_business_travel_ready = to_judge(row.is_business_travel_ready)\n",
    "    host_is_superhost = to_judge(row.host_is_superhost)\n",
    "    host_has_profile_pic = to_judge(row.host_has_profile_pic)\n",
    "    host_identity_verified = to_judge(row.host_identity_verified)\n",
    "    instant_bookable = to_judge(row.instant_bookable)\n",
    "    room_type = to_room_type(row.room_type)\n",
    "    bed_type = to_bed_type(row.bed_type)\n",
    "    property_type = to_property_type(row.property_type)\n",
    "    require_guest_profile_picture = to_judge(row.require_guest_profile_picture)\n",
    "    require_guest_phone_verification = to_judge(row.require_guest_phone_verification)\n",
    "    one_hot1 = [int(row.neighbourhood_group_cleansed == category) for category in categories1]\n",
    "    one_hot3 = [int(row.host_response_time == category) for category in categories3]\n",
    "    one_hot4 = [int(row.host_response_rate == category) for category in categories4]\n",
    "    one_hot13 = [int(row.cancellation_policy == category) for category in categories13]\n",
    "\n",
    "\n",
    "    return [guest_num, guest_cap, bedrooms, bathrooms,\n",
    "            accommodates, beds, zipcode, instant_bookable,\n",
    "            reviews_per_month, host_listings_count,\n",
    "            review_scores_accuracy, review_scores_communication,\n",
    "            review_scores_cleanliness, review_scores_checkin,\n",
    "            review_scores_value, minimum_nights, maximum_nights,\n",
    "            number_of_reviews, review,is_business_travel_ready,host_is_superhost,\n",
    "            host_has_profile_pic, host_identity_verified,require_guest_profile_picture,\n",
    "            require_guest_phone_verification, room_type, property_type,\n",
    "            bed_type] + one_hot1 + one_hot3 + one_hot4 + one_hot13"
   ]
  },
  {
   "cell_type": "code",
   "execution_count": 6,
   "outputs": [
    {
     "ename": "TypeError",
     "evalue": "could not convert string to float: '$30.00'",
     "output_type": "error",
     "traceback": [
      "\u001B[1;31m---------------------------------------------------------------------------\u001B[0m",
      "\u001B[1;31mValueError\u001B[0m                                Traceback (most recent call last)",
      "File \u001B[1;32mf:\\python\\venv\\lib\\site-packages\\pandas\\core\\nanops.py:752\u001B[0m, in \u001B[0;36mnanmedian\u001B[1;34m(values, axis, skipna, mask)\u001B[0m\n\u001B[0;32m    751\u001B[0m \u001B[38;5;28;01mtry\u001B[39;00m:\n\u001B[1;32m--> 752\u001B[0m     values \u001B[38;5;241m=\u001B[39m \u001B[43mvalues\u001B[49m\u001B[38;5;241;43m.\u001B[39;49m\u001B[43mastype\u001B[49m\u001B[43m(\u001B[49m\u001B[38;5;124;43m\"\u001B[39;49m\u001B[38;5;124;43mf8\u001B[39;49m\u001B[38;5;124;43m\"\u001B[39;49m\u001B[43m)\u001B[49m\n\u001B[0;32m    753\u001B[0m \u001B[38;5;28;01mexcept\u001B[39;00m \u001B[38;5;167;01mValueError\u001B[39;00m \u001B[38;5;28;01mas\u001B[39;00m err:\n\u001B[0;32m    754\u001B[0m     \u001B[38;5;66;03m# e.g. \"could not convert string to float: 'a'\"\u001B[39;00m\n",
      "\u001B[1;31mValueError\u001B[0m: could not convert string to float: '$30.00'",
      "\nThe above exception was the direct cause of the following exception:\n",
      "\u001B[1;31mTypeError\u001B[0m                                 Traceback (most recent call last)",
      "Cell \u001B[1;32mIn[6], line 12\u001B[0m\n\u001B[0;32m      1\u001B[0m cols \u001B[38;5;241m=\u001B[39m [\u001B[38;5;124m'\u001B[39m\u001B[38;5;124mguests_included\u001B[39m\u001B[38;5;124m'\u001B[39m, \u001B[38;5;124m'\u001B[39m\u001B[38;5;124mextra_people\u001B[39m\u001B[38;5;124m'\u001B[39m, \u001B[38;5;124m'\u001B[39m\u001B[38;5;124mbedrooms\u001B[39m\u001B[38;5;124m'\u001B[39m, \u001B[38;5;124m'\u001B[39m\u001B[38;5;124mbathrooms\u001B[39m\u001B[38;5;124m'\u001B[39m,\n\u001B[0;32m      2\u001B[0m             \u001B[38;5;124m'\u001B[39m\u001B[38;5;124maccommodates\u001B[39m\u001B[38;5;124m'\u001B[39m, \u001B[38;5;124m'\u001B[39m\u001B[38;5;124mbeds\u001B[39m\u001B[38;5;124m'\u001B[39m, \u001B[38;5;124m'\u001B[39m\u001B[38;5;124mzipcode\u001B[39m\u001B[38;5;124m'\u001B[39m, \u001B[38;5;124m'\u001B[39m\u001B[38;5;124minstant_bookable\u001B[39m\u001B[38;5;124m'\u001B[39m,\n\u001B[0;32m      3\u001B[0m             \u001B[38;5;124m'\u001B[39m\u001B[38;5;124mreviews_per_month\u001B[39m\u001B[38;5;124m'\u001B[39m, \u001B[38;5;124m'\u001B[39m\u001B[38;5;124mhost_listings_count\u001B[39m\u001B[38;5;124m'\u001B[39m,\n\u001B[1;32m   (...)\u001B[0m\n\u001B[0;32m      9\u001B[0m             \u001B[38;5;124m'\u001B[39m\u001B[38;5;124mrequire_guest_phone_verification\u001B[39m\u001B[38;5;124m'\u001B[39m,\u001B[38;5;124m'\u001B[39m\u001B[38;5;124mneighbourhood_group_cleansed\u001B[39m\u001B[38;5;124m'\u001B[39m,\u001B[38;5;124m'\u001B[39m\u001B[38;5;124mhost_neighbourhood\u001B[39m\u001B[38;5;124m'\u001B[39m\n\u001B[0;32m     10\u001B[0m         ,\u001B[38;5;124m'\u001B[39m\u001B[38;5;124mhost_response_time\u001B[39m\u001B[38;5;124m'\u001B[39m,\u001B[38;5;124m'\u001B[39m\u001B[38;5;124mhost_response_rate\u001B[39m\u001B[38;5;124m'\u001B[39m,\u001B[38;5;124m'\u001B[39m\u001B[38;5;124mproperty_type\u001B[39m\u001B[38;5;124m'\u001B[39m,\u001B[38;5;124m'\u001B[39m\u001B[38;5;124mroom_type\u001B[39m\u001B[38;5;124m'\u001B[39m,\u001B[38;5;124m'\u001B[39m\u001B[38;5;124mbed_type\u001B[39m\u001B[38;5;124m'\u001B[39m,\u001B[38;5;124m'\u001B[39m\u001B[38;5;124mcancellation_policy\u001B[39m\u001B[38;5;124m'\u001B[39m]\n\u001B[0;32m     11\u001B[0m \u001B[38;5;28;01mfor\u001B[39;00m col \u001B[38;5;129;01min\u001B[39;00m cols:\n\u001B[1;32m---> 12\u001B[0m     df[col]\u001B[38;5;241m.\u001B[39mfillna(\u001B[43mdf\u001B[49m\u001B[43m[\u001B[49m\u001B[43mcol\u001B[49m\u001B[43m]\u001B[49m\u001B[38;5;241;43m.\u001B[39;49m\u001B[43mmedian\u001B[49m\u001B[43m(\u001B[49m\u001B[43m)\u001B[49m, inplace\u001B[38;5;241m=\u001B[39m\u001B[38;5;28;01mTrue\u001B[39;00m)\n",
      "File \u001B[1;32mf:\\python\\venv\\lib\\site-packages\\pandas\\core\\generic.py:11189\u001B[0m, in \u001B[0;36mNDFrame._add_numeric_operations.<locals>.median\u001B[1;34m(self, axis, skipna, level, numeric_only, **kwargs)\u001B[0m\n\u001B[0;32m  11171\u001B[0m \u001B[38;5;129m@doc\u001B[39m(\n\u001B[0;32m  11172\u001B[0m     _num_doc,\n\u001B[0;32m  11173\u001B[0m     desc\u001B[38;5;241m=\u001B[39m\u001B[38;5;124m\"\u001B[39m\u001B[38;5;124mReturn the median of the values over the requested axis.\u001B[39m\u001B[38;5;124m\"\u001B[39m,\n\u001B[1;32m   (...)\u001B[0m\n\u001B[0;32m  11187\u001B[0m     \u001B[38;5;241m*\u001B[39m\u001B[38;5;241m*\u001B[39mkwargs,\n\u001B[0;32m  11188\u001B[0m ):\n\u001B[1;32m> 11189\u001B[0m     \u001B[38;5;28;01mreturn\u001B[39;00m NDFrame\u001B[38;5;241m.\u001B[39mmedian(\u001B[38;5;28mself\u001B[39m, axis, skipna, level, numeric_only, \u001B[38;5;241m*\u001B[39m\u001B[38;5;241m*\u001B[39mkwargs)\n",
      "File \u001B[1;32mf:\\python\\venv\\lib\\site-packages\\pandas\\core\\generic.py:10701\u001B[0m, in \u001B[0;36mNDFrame.median\u001B[1;34m(self, axis, skipna, level, numeric_only, **kwargs)\u001B[0m\n\u001B[0;32m  10693\u001B[0m \u001B[38;5;28;01mdef\u001B[39;00m \u001B[38;5;21mmedian\u001B[39m(\n\u001B[0;32m  10694\u001B[0m     \u001B[38;5;28mself\u001B[39m,\n\u001B[0;32m  10695\u001B[0m     axis: Axis \u001B[38;5;241m|\u001B[39m \u001B[38;5;28;01mNone\u001B[39;00m \u001B[38;5;241m|\u001B[39m lib\u001B[38;5;241m.\u001B[39mNoDefault \u001B[38;5;241m=\u001B[39m lib\u001B[38;5;241m.\u001B[39mno_default,\n\u001B[1;32m   (...)\u001B[0m\n\u001B[0;32m  10699\u001B[0m     \u001B[38;5;241m*\u001B[39m\u001B[38;5;241m*\u001B[39mkwargs,\n\u001B[0;32m  10700\u001B[0m ) \u001B[38;5;241m-\u001B[39m\u001B[38;5;241m>\u001B[39m Series \u001B[38;5;241m|\u001B[39m \u001B[38;5;28mfloat\u001B[39m:\n\u001B[1;32m> 10701\u001B[0m     \u001B[38;5;28;01mreturn\u001B[39;00m \u001B[38;5;28mself\u001B[39m\u001B[38;5;241m.\u001B[39m_stat_function(\n\u001B[0;32m  10702\u001B[0m         \u001B[38;5;124m\"\u001B[39m\u001B[38;5;124mmedian\u001B[39m\u001B[38;5;124m\"\u001B[39m, nanops\u001B[38;5;241m.\u001B[39mnanmedian, axis, skipna, level, numeric_only, \u001B[38;5;241m*\u001B[39m\u001B[38;5;241m*\u001B[39mkwargs\n\u001B[0;32m  10703\u001B[0m     )\n",
      "File \u001B[1;32mf:\\python\\venv\\lib\\site-packages\\pandas\\core\\generic.py:10641\u001B[0m, in \u001B[0;36mNDFrame._stat_function\u001B[1;34m(self, name, func, axis, skipna, level, numeric_only, **kwargs)\u001B[0m\n\u001B[0;32m  10631\u001B[0m     warnings\u001B[38;5;241m.\u001B[39mwarn(\n\u001B[0;32m  10632\u001B[0m         \u001B[38;5;124m\"\u001B[39m\u001B[38;5;124mUsing the level keyword in DataFrame and Series aggregations is \u001B[39m\u001B[38;5;124m\"\u001B[39m\n\u001B[0;32m  10633\u001B[0m         \u001B[38;5;124m\"\u001B[39m\u001B[38;5;124mdeprecated and will be removed in a future version. Use groupby \u001B[39m\u001B[38;5;124m\"\u001B[39m\n\u001B[1;32m   (...)\u001B[0m\n\u001B[0;32m  10636\u001B[0m         stacklevel\u001B[38;5;241m=\u001B[39mfind_stack_level(),\n\u001B[0;32m  10637\u001B[0m     )\n\u001B[0;32m  10638\u001B[0m     \u001B[38;5;28;01mreturn\u001B[39;00m \u001B[38;5;28mself\u001B[39m\u001B[38;5;241m.\u001B[39m_agg_by_level(\n\u001B[0;32m  10639\u001B[0m         name, axis\u001B[38;5;241m=\u001B[39maxis, level\u001B[38;5;241m=\u001B[39mlevel, skipna\u001B[38;5;241m=\u001B[39mskipna, numeric_only\u001B[38;5;241m=\u001B[39mnumeric_only\n\u001B[0;32m  10640\u001B[0m     )\n\u001B[1;32m> 10641\u001B[0m \u001B[38;5;28;01mreturn\u001B[39;00m \u001B[38;5;28;43mself\u001B[39;49m\u001B[38;5;241;43m.\u001B[39;49m\u001B[43m_reduce\u001B[49m\u001B[43m(\u001B[49m\n\u001B[0;32m  10642\u001B[0m \u001B[43m    \u001B[49m\u001B[43mfunc\u001B[49m\u001B[43m,\u001B[49m\u001B[43m \u001B[49m\u001B[43mname\u001B[49m\u001B[38;5;241;43m=\u001B[39;49m\u001B[43mname\u001B[49m\u001B[43m,\u001B[49m\u001B[43m \u001B[49m\u001B[43maxis\u001B[49m\u001B[38;5;241;43m=\u001B[39;49m\u001B[43maxis\u001B[49m\u001B[43m,\u001B[49m\u001B[43m \u001B[49m\u001B[43mskipna\u001B[49m\u001B[38;5;241;43m=\u001B[39;49m\u001B[43mskipna\u001B[49m\u001B[43m,\u001B[49m\u001B[43m \u001B[49m\u001B[43mnumeric_only\u001B[49m\u001B[38;5;241;43m=\u001B[39;49m\u001B[43mnumeric_only\u001B[49m\n\u001B[0;32m  10643\u001B[0m \u001B[43m\u001B[49m\u001B[43m)\u001B[49m\n",
      "File \u001B[1;32mf:\\python\\venv\\lib\\site-packages\\pandas\\core\\series.py:4471\u001B[0m, in \u001B[0;36mSeries._reduce\u001B[1;34m(self, op, name, axis, skipna, numeric_only, filter_type, **kwds)\u001B[0m\n\u001B[0;32m   4467\u001B[0m     \u001B[38;5;28;01mraise\u001B[39;00m \u001B[38;5;167;01mNotImplementedError\u001B[39;00m(\n\u001B[0;32m   4468\u001B[0m         \u001B[38;5;124mf\u001B[39m\u001B[38;5;124m\"\u001B[39m\u001B[38;5;124mSeries.\u001B[39m\u001B[38;5;132;01m{\u001B[39;00mname\u001B[38;5;132;01m}\u001B[39;00m\u001B[38;5;124m does not implement \u001B[39m\u001B[38;5;132;01m{\u001B[39;00mkwd_name\u001B[38;5;132;01m}\u001B[39;00m\u001B[38;5;124m.\u001B[39m\u001B[38;5;124m\"\u001B[39m\n\u001B[0;32m   4469\u001B[0m     )\n\u001B[0;32m   4470\u001B[0m \u001B[38;5;28;01mwith\u001B[39;00m np\u001B[38;5;241m.\u001B[39merrstate(\u001B[38;5;28mall\u001B[39m\u001B[38;5;241m=\u001B[39m\u001B[38;5;124m\"\u001B[39m\u001B[38;5;124mignore\u001B[39m\u001B[38;5;124m\"\u001B[39m):\n\u001B[1;32m-> 4471\u001B[0m     \u001B[38;5;28;01mreturn\u001B[39;00m op(delegate, skipna\u001B[38;5;241m=\u001B[39mskipna, \u001B[38;5;241m*\u001B[39m\u001B[38;5;241m*\u001B[39mkwds)\n",
      "File \u001B[1;32mf:\\python\\venv\\lib\\site-packages\\pandas\\core\\nanops.py:155\u001B[0m, in \u001B[0;36mbottleneck_switch.__call__.<locals>.f\u001B[1;34m(values, axis, skipna, **kwds)\u001B[0m\n\u001B[0;32m    153\u001B[0m         result \u001B[38;5;241m=\u001B[39m alt(values, axis\u001B[38;5;241m=\u001B[39maxis, skipna\u001B[38;5;241m=\u001B[39mskipna, \u001B[38;5;241m*\u001B[39m\u001B[38;5;241m*\u001B[39mkwds)\n\u001B[0;32m    154\u001B[0m \u001B[38;5;28;01melse\u001B[39;00m:\n\u001B[1;32m--> 155\u001B[0m     result \u001B[38;5;241m=\u001B[39m alt(values, axis\u001B[38;5;241m=\u001B[39maxis, skipna\u001B[38;5;241m=\u001B[39mskipna, \u001B[38;5;241m*\u001B[39m\u001B[38;5;241m*\u001B[39mkwds)\n\u001B[0;32m    157\u001B[0m \u001B[38;5;28;01mreturn\u001B[39;00m result\n",
      "File \u001B[1;32mf:\\python\\venv\\lib\\site-packages\\pandas\\core\\nanops.py:755\u001B[0m, in \u001B[0;36mnanmedian\u001B[1;34m(values, axis, skipna, mask)\u001B[0m\n\u001B[0;32m    752\u001B[0m     values \u001B[38;5;241m=\u001B[39m values\u001B[38;5;241m.\u001B[39mastype(\u001B[38;5;124m\"\u001B[39m\u001B[38;5;124mf8\u001B[39m\u001B[38;5;124m\"\u001B[39m)\n\u001B[0;32m    753\u001B[0m \u001B[38;5;28;01mexcept\u001B[39;00m \u001B[38;5;167;01mValueError\u001B[39;00m \u001B[38;5;28;01mas\u001B[39;00m err:\n\u001B[0;32m    754\u001B[0m     \u001B[38;5;66;03m# e.g. \"could not convert string to float: 'a'\"\u001B[39;00m\n\u001B[1;32m--> 755\u001B[0m     \u001B[38;5;28;01mraise\u001B[39;00m \u001B[38;5;167;01mTypeError\u001B[39;00m(\u001B[38;5;28mstr\u001B[39m(err)) \u001B[38;5;28;01mfrom\u001B[39;00m \u001B[38;5;21;01merr\u001B[39;00m\n\u001B[0;32m    756\u001B[0m \u001B[38;5;28;01mif\u001B[39;00m mask \u001B[38;5;129;01mis\u001B[39;00m \u001B[38;5;129;01mnot\u001B[39;00m \u001B[38;5;28;01mNone\u001B[39;00m:\n\u001B[0;32m    757\u001B[0m     values[mask] \u001B[38;5;241m=\u001B[39m np\u001B[38;5;241m.\u001B[39mnan\n",
      "\u001B[1;31mTypeError\u001B[0m: could not convert string to float: '$30.00'"
     ]
    }
   ],
   "source": [
    "cols = ['guests_included', 'extra_people', 'bedrooms', 'bathrooms',\n",
    "            'accommodates', 'beds', 'zipcode', 'instant_bookable',\n",
    "            'reviews_per_month', 'host_listings_count',\n",
    "            'review_scores_accuracy', 'review_scores_communication',\n",
    "            'review_scores_cleanliness', 'review_scores_checkin',\n",
    "            'review_scores_value', 'minimum_nights', 'maximum_nights',\n",
    "            'number_of_reviews', 'review_scores_rating','is_business_travel_ready','host_is_superhost',\n",
    "            'host_has_profile_pic', 'host_identity_verified','require_guest_profile_picture',\n",
    "            'require_guest_phone_verification','neighbourhood_group_cleansed','host_neighbourhood'\n",
    "        ,'host_response_time','host_response_rate','property_type','room_type','bed_type','cancellation_policy']\n",
    "for col in cols:\n",
    "    df[col].fillna(df[col].median(), inplace=True)"
   ],
   "metadata": {
    "collapsed": false,
    "pycharm": {
     "name": "#%%\n"
    }
   }
  },
  {
   "cell_type": "code",
   "execution_count": null,
   "outputs": [],
   "source": [
    "X, y = [], []\n",
    "for (idx, row) in df.iterrows():\n",
    "    price = float(row.price)\n",
    "    feature = create_feature(row)\n",
    "\n",
    "    X.append(feature)\n",
    "    y.append(price)\n",
    "\n",
    "print(len(X), len(y))"
   ],
   "metadata": {
    "collapsed": false,
    "pycharm": {
     "name": "#%%\n"
    }
   }
  },
  {
   "cell_type": "code",
   "execution_count": null,
   "metadata": {},
   "outputs": [],
   "source": [
    "from sklearn import linear_model\n",
    "from sklearn.model_selection import train_test_split\n",
    "from sklearn.model_selection import GridSearchCV\n",
    "from sklearn.ensemble import RandomForestRegressor\n",
    "\n",
    "\n",
    "X_train, X_test, y_train, y_test = train_test_split(X, y, test_size=0.2, random_state=42)"
   ]
  },
  {
   "cell_type": "code",
   "execution_count": null,
   "outputs": [],
   "source": [
    "from sklearn.metrics import r2_score\n",
    "from sklearn import metrics\n",
    "import numpy as np\n",
    "\n",
    "# param_grid = [\n",
    "# {'n_estimators': [3, 30,60], 'max_features': [2, 4, 6, 8]},\n",
    "# {'n_estimators':[1,10,100],'max_features':('auto','sqrt','log2')}\n",
    "# ]\n",
    "# grid_search = GridSearchCV(model, param_grid, cv=5,\n",
    "# scoring='neg_mean_squared_error')\n",
    "model = RandomForestRegressor()\n",
    "model.fit(X_train, y_train)\n",
    "print(f'RMSE:{np.sqrt(metrics.mean_squared_error(model.predict(X_test), y_test))}')\n",
    "print(f'R2_score:{r2_score(model.predict(X_test),y_test)}')\n"
   ],
   "metadata": {
    "collapsed": false,
    "pycharm": {
     "name": "#%%\n"
    }
   }
  },
  {
   "cell_type": "code",
   "execution_count": null,
   "metadata": {
    "pycharm": {
     "name": "#%%\n"
    }
   },
   "outputs": [],
   "source": [
    "import pandas as pd\n",
    "\n",
    "test_df = pd.read_csv('test.csv')\n",
    "\n",
    "\n",
    "test_ids, test_X = [], []\n",
    "for (idx, row) in test_df.iterrows():\n",
    "    feature = create_feature(row)\n",
    "    test_ids.append(row.id)\n",
    "    test_X.append(feature)\n",
    "test_y = model.predict(test_X)\n",
    "\n",
    "print(len(test_y))\n",
    "\n",
    "\n",
    "output_df = pd.DataFrame()\n",
    "output_df['Id'] = test_ids\n",
    "output_df['Predicted'] = test_y\n",
    "output_df.to_csv('simple_linear_regression_baseline.csv', index = False)\n",
    "\n"
   ]
  }
 ],
 "metadata": {
  "kernelspec": {
   "display_name": "Python 3",
   "language": "python",
   "name": "python3"
  },
  "language_info": {
   "codemirror_mode": {
    "name": "ipython",
    "version": 3
   },
   "file_extension": ".py",
   "mimetype": "text/x-python",
   "name": "python",
   "nbconvert_exporter": "python",
   "pygments_lexer": "ipython3",
   "version": "3.7.4"
  }
 },
 "nbformat": 4,
 "nbformat_minor": 2
}