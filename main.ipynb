{
 "cells": [
  {
   "cell_type": "code",
   "execution_count": 306,
   "metadata": {},
   "outputs": [
    {
     "name": "stderr",
     "output_type": "stream",
     "text": [
      "C:\\Users\\Lenovo\\AppData\\Local\\Temp\\ipykernel_17780\\2440722517.py:5: DtypeWarning: Columns (30) have mixed types. Specify dtype option on import or set low_memory=False.\n",
      "  df = pd.read_csv('train.csv')\n"
     ]
    }
   ],
   "source": [
    "import np as np\n",
    "import pandas as pd\n",
    "\n",
    "\n",
    "df = pd.read_csv('train.csv')"
   ]
  },
  {
   "cell_type": "code",
   "execution_count": 307,
   "metadata": {},
   "outputs": [
    {
     "name": "stdout",
     "output_type": "stream",
     "text": [
      "33538\n"
     ]
    }
   ],
   "source": [
    "print(len(df))"
   ]
  },
  {
   "cell_type": "code",
   "execution_count": 308,
   "outputs": [],
   "source": [
    "# df.info()\n",
    "# df = df.groupby('state').filter(lambda x: len(x) > 1)\n"
   ],
   "metadata": {
    "collapsed": false,
    "pycharm": {
     "name": "#%%\n"
    }
   }
  },
  {
   "cell_type": "code",
   "execution_count": 309,
   "outputs": [
    {
     "data": {
      "text/plain": "NY          33519\nNy              4\nNew York        1\nMP              1\nNJ              1\nny              1\nCA              1\nName: state, dtype: int64"
     },
     "execution_count": 309,
     "metadata": {},
     "output_type": "execute_result"
    }
   ],
   "source": [
    "df['state'].value_counts()"
   ],
   "metadata": {
    "collapsed": false,
    "pycharm": {
     "name": "#%%\n"
    }
   }
  },
  {
   "cell_type": "code",
   "execution_count": 310,
   "outputs": [],
   "source": [
    "df.drop(['id','host_id','name','summary','country','state','country_code','experiences_offered','space','description','neighborhood_overview',\n",
    "         'notes','transit','access','interaction','house_rules','host_name'\n",
    "         ,'host_about','host_acceptance_rate','square_feet'],axis=1, inplace=True)\n"
   ],
   "metadata": {
    "collapsed": false,
    "pycharm": {
     "name": "#%%\n"
    }
   }
  },
  {
   "cell_type": "code",
   "execution_count": 311,
   "outputs": [],
   "source": [
    "df.isnull().sum()\n",
    "df = df.drop(df[(df['accommodates']<3) &\n",
    "                                        (df['price']>1600)].index)\n",
    "\n",
    "df = df.drop(df[(df['beds']>13) &\n",
    "                                        (df['price']<1200)].index)\n",
    "\n",
    "df = df.drop(df[(df['bedrooms']>7.5) &\n",
    "                                        (df['price']<1200)].index)\n",
    "\n",
    "df = df.drop(df[(df['guests_included']>12) &\n",
    "                                        (df['price']<1000)].index)\n",
    "\n",
    "df = df.drop(df[(df['bathrooms']>10) &\n",
    "                                        (df['price']<1000)].index)\n",
    "\n",
    "df = df.drop(df[(df['review_scores_location']<3) &\n",
    "                                        (df['price']>300)].index)\n",
    "\n",
    "df = df.drop(df[(df['calculated_host_listings_count']>100) &\n",
    "                                        (df['price']>1000)].index)\n",
    "df = df.drop(df[(df['review_scores_cleanliness']<9) &\n",
    "                                        (df['price']>1500)].index)\n",
    "df = df.drop(df[(df['review_scores_rating']<40) &\n",
    "                                        (df['price']>500)].index)\n",
    "df = df.drop(df[(df['number_of_reviews']>3500) &\n",
    "                                        (df['price']>300)].index)\n",
    "df = df.drop(df[(df['review_scores_value']<2.5) &\n",
    "                                        (df['price']>500)].index)\n",
    "df = df.drop(df[(df['minimum_nights']>700) &\n",
    "                                        (df['price']>100)].index)"
   ],
   "metadata": {
    "collapsed": false,
    "pycharm": {
     "name": "#%%\n"
    }
   }
  },
  {
   "cell_type": "code",
   "execution_count": 312,
   "metadata": {},
   "outputs": [
    {
     "data": {
      "text/plain": "<Axes: >"
     },
     "execution_count": 312,
     "metadata": {},
     "output_type": "execute_result"
    },
    {
     "data": {
      "text/plain": "<Figure size 640x480 with 1 Axes>",
      "image/png": "[encoded data removed]"
     },
     "metadata": {},
     "output_type": "display_data"
    }
   ],
   "source": [
    "df['price'].hist(bins = 1000)"
   ]
  },
  {
   "cell_type": "code",
   "execution_count": 313,
   "outputs": [
    {
     "data": {
      "text/plain": "0        2018.0\n1        2018.0\n2        2018.0\n3           NaN\n4        2018.0\n          ...  \n33533    2016.0\n33534    2018.0\n33535       NaN\n33536    2018.0\n33537    2018.0\nName: last_review, Length: 33503, dtype: float64"
     },
     "execution_count": 313,
     "metadata": {},
     "output_type": "execute_result"
    }
   ],
   "source": [
    "# # df['host_location'].value_counts().head(50)\n",
    "df['host_since'] = pd.to_datetime(df['host_since'])\n",
    "df['host_since'] = df['host_since'].dt.year\n",
    "df['first_review'] = pd.to_datetime(df['first_review'])\n",
    "df['first_review'] = df['first_review'].dt.year\n",
    "df['last_review'] = pd.to_datetime(df['last_review'])\n",
    "df['last_review'] = df['last_review'].dt.year\n",
    "df['last_review']"
   ],
   "metadata": {
    "collapsed": false,
    "pycharm": {
     "name": "#%%\n"
    }
   }
  },
  {
   "cell_type": "code",
   "execution_count": 314,
   "metadata": {},
   "outputs": [],
   "source": [
    "from math import isnan\n",
    "\n",
    "def to_float(s):\n",
    "    try:\n",
    "        ret = float(s)\n",
    "    except:\n",
    "        ret = -1\n",
    "    if isnan(ret):\n",
    "        ret = -1\n",
    "    return ret\n",
    "\n",
    "def to_int(s):\n",
    "    try:\n",
    "        ret = int(s)\n",
    "    except:\n",
    "        ret = -1\n",
    "    return ret\n",
    "\n",
    "def to_judge(s):\n",
    "    ret = -1\n",
    "    if s == \"t\":\n",
    "        ret = 1\n",
    "    if s == \"f\":\n",
    "        ret = 0\n",
    "    return ret\n",
    "\n",
    "def to_dollar(s):\n",
    "    try:\n",
    "        ret = to_float(s.replace(\"$\",\"\"))\n",
    "    except:\n",
    "        ret = -1\n",
    "    return ret"
   ]
  },
  {
   "cell_type": "code",
   "execution_count": 315,
   "outputs": [],
   "source": [
    "cols1 = ['host_neighbourhood',\"host_response_time\",\"host_location\",\"market\",\"city\",\"host_is_superhost\",\"host_has_profile_pic\",\"host_identity_verified\"]\n",
    "for col in cols1:\n",
    "    df[col].fillna(\"None\", inplace=True)"
   ],
   "metadata": {
    "collapsed": false,
    "pycharm": {
     "name": "#%%\n"
    }
   }
  },
  {
   "cell_type": "code",
   "execution_count": 316,
   "outputs": [],
   "source": [
    "cols = [\"review_scores_value\",\"review_scores_checkin\",\"review_scores_location\",\"review_scores_accuracy\",\"review_scores_communication\",\"review_scores_cleanliness\",\"review_scores_rating\",\"reviews_per_month\",\"zipcode\",\"bathrooms\",\"bedrooms\",\"bedrooms\",\"beds\",\"host_listings_count\"]\n",
    "for col in cols:\n",
    "    df[col].fillna(0, inplace=True)"
   ],
   "metadata": {
    "collapsed": false,
    "pycharm": {
     "name": "#%%\n"
    }
   }
  },
  {
   "cell_type": "code",
   "execution_count": 317,
   "outputs": [
    {
     "data": {
      "text/plain": "0        100.0%\n1        100.0%\n2        100.0%\n3        100.0%\n4        100.0%\n          ...  \n33533    100.0%\n33534    100.0%\n33535    100.0%\n33536    100.0%\n33537     92.0%\nName: host_response_rate, Length: 33503, dtype: object"
     },
     "execution_count": 317,
     "metadata": {},
     "output_type": "execute_result"
    }
   ],
   "source": [
    "cols = [\"host_since\",\"first_review\",\"last_review\"]\n",
    "for col in cols:\n",
    "    df[col].fillna(df[col].median(), inplace=True)\n",
    "df['price'] = df['price'].fillna(df['price'].mean())\n",
    "df['host_response_rate'] = df['host_response_rate'].str.strip('%').astype(float)\n",
    "\n",
    "median_response_rate = df['host_response_rate'].median()\n",
    "df['host_response_rate'].fillna(median_response_rate, inplace=True)\n",
    "df['host_response_rate'] = df['host_response_rate'].astype(str) + '%'\n",
    "df['host_response_rate']"
   ],
   "metadata": {
    "collapsed": false,
    "pycharm": {
     "name": "#%%\n"
    }
   }
  },
  {
   "cell_type": "code",
   "execution_count": 318,
   "outputs": [
    {
     "data": {
      "text/plain": "0        $30.0\n1        $19.0\n2         $0.0\n3         $0.0\n4        $14.0\n         ...  \n33533    $25.0\n33534     $0.0\n33535     $0.0\n33536     $0.0\n33537    $25.0\nName: extra_people, Length: 33503, dtype: object"
     },
     "execution_count": 318,
     "metadata": {},
     "output_type": "execute_result"
    }
   ],
   "source": [
    "df['extra_people'] = df['extra_people'].str.strip('$').astype(float)\n",
    "\n",
    "median_response_rate = df['extra_people'].median()\n",
    "df['extra_people'].fillna(median_response_rate, inplace=True)\n",
    "df['extra_people'] = '$'+df['extra_people'].astype(str)\n",
    "df['extra_people']"
   ],
   "metadata": {
    "collapsed": false,
    "pycharm": {
     "name": "#%%\n"
    }
   }
  },
  {
   "cell_type": "code",
   "execution_count": 319,
   "outputs": [
    {
     "name": "stdout",
     "output_type": "stream",
     "text": [
      "5\n"
     ]
    }
   ],
   "source": [
    "categories1 = [x for x in list(set(df['neighbourhood_group_cleansed'])) if type(x) is str]\n",
    "categories2 = [x for x in list(set(df['host_neighbourhood'])) if type(x) is str]\n",
    "categories3 = [x for x in list(set(df['host_response_time'])) if type(x) is str]\n",
    "categories4 = [x for x in list(set(df['host_response_rate'])) if type(x) is str]\n",
    "categories5 = [x for x in list(set(df['host_location'])) if type(x) is str]\n",
    "categories8 = [x for x in list(set(df['property_type'])) if type(x) is str]\n",
    "categories9 = [x for x in list(set(df['room_type'])) if type(x) is str]\n",
    "categories10 = [x for x in list(set(df['bed_type'])) if type(x) is str]\n",
    "categories13 = [x for x in list(set(df['cancellation_policy'])) if type(x) is str]\n",
    "\n",
    "print(len(categories1))\n",
    "\n",
    "def create_feature(row):\n",
    "    guest_num = to_int(row.guests_included)\n",
    "    guest_cap = to_dollar(row.extra_people)\n",
    "    bedrooms = to_int(row.bedrooms)\n",
    "    bathrooms = to_int(row.bathrooms)\n",
    "    accommodates = to_int(row.accommodates)\n",
    "    beds = to_int(row.beds)\n",
    "    zipcode = to_int(row.zipcode)\n",
    "    reviews_per_month = to_float(row.reviews_per_month)\n",
    "    review = to_float(row.review_scores_rating)\n",
    "    host_listings_count = to_int(row.host_listings_count)\n",
    "    review_scores_accuracy = to_int(row.review_scores_accuracy)\n",
    "    review_scores_communication = to_int(row.review_scores_communication)\n",
    "    review_scores_cleanliness = to_int(row.review_scores_cleanliness)\n",
    "    review_scores_checkin = to_int(row.review_scores_checkin)\n",
    "    review_scores_value = to_int(row.review_scores_value)\n",
    "    minimum_nights = to_int(row.minimum_nights)\n",
    "    maximum_nights = to_int(row.maximum_nights)\n",
    "    number_of_reviews = to_int(row.number_of_reviews)\n",
    "    is_business_travel_ready = to_judge(row.is_business_travel_ready)\n",
    "    host_is_superhost = to_judge(row.host_is_superhost)\n",
    "    host_has_profile_pic = to_judge(row.host_has_profile_pic)\n",
    "    host_identity_verified = to_judge(row.host_identity_verified)\n",
    "    instant_bookable = to_judge(row.instant_bookable)\n",
    "    host_since = to_float(row.host_since)\n",
    "    review1 = to_float(row.last_review) - to_float(row.first_review)\n",
    "    require_guest_profile_picture = to_judge(row.require_guest_profile_picture)\n",
    "    require_guest_phone_verification = to_judge(row.require_guest_phone_verification)\n",
    "    one_hot1 = [int(row.neighbourhood_group_cleansed == category) for category in categories1]\n",
    "    one_hot2 = [int(row.host_neighbourhood == category) for category in categories2]\n",
    "    one_hot3 = [int(row.host_response_time == category) for category in categories3]\n",
    "    one_hot4 = [int(row.host_response_rate == category) for category in categories4]\n",
    "    one_hot5 = [int(row.host_location == category) for category in categories4]\n",
    "    one_hot8 = [int(row.property_type == category) for category in categories8]\n",
    "    one_hot9 = [int(row.room_type == category) for category in categories9]\n",
    "    one_hot10 = [int(row.bed_type == category) for category in categories10]\n",
    "    one_hot13 = [int(row.cancellation_policy == category) for category in categories13]\n",
    "\n",
    "\n",
    "    return [guest_num, guest_cap, bedrooms, bathrooms,\n",
    "            accommodates, beds, zipcode, instant_bookable,\n",
    "            reviews_per_month, host_listings_count,\n",
    "            review_scores_accuracy, review_scores_communication,\n",
    "            review_scores_cleanliness, review_scores_checkin,\n",
    "            review_scores_value, minimum_nights, maximum_nights,\n",
    "            number_of_reviews, review,is_business_travel_ready,host_is_superhost,\n",
    "            host_has_profile_pic, host_identity_verified,require_guest_profile_picture,\n",
    "            require_guest_phone_verification,host_since,review1] + one_hot1 + one_hot2 + one_hot3 + one_hot4 + one_hot5 + one_hot8 + one_hot9 + one_hot10 + one_hot13\n",
    "\n"
   ],
   "metadata": {
    "collapsed": false,
    "pycharm": {
     "name": "#%%\n"
    }
   }
  },
  {
   "cell_type": "code",
   "execution_count": 320,
   "outputs": [
    {
     "name": "stdout",
     "output_type": "stream",
     "text": [
      "33503 33503\n"
     ]
    }
   ],
   "source": [
    "X, y = [], []\n",
    "for (idx, row) in df.iterrows():\n",
    "    price = float(row.price)\n",
    "    feature = create_feature(row)\n",
    "\n",
    "    X.append(feature)\n",
    "    y.append(price)\n",
    "\n",
    "print(len(X), len(y))\n"
   ],
   "metadata": {
    "collapsed": false,
    "pycharm": {
     "name": "#%%\n"
    }
   }
  },
  {
   "cell_type": "code",
   "execution_count": 321,
   "metadata": {},
   "outputs": [],
   "source": [
    "from sklearn import linear_model\n",
    "from sklearn.model_selection import train_test_split\n",
    "from sklearn.model_selection import GridSearchCV\n",
    "from sklearn.ensemble import RandomForestRegressor\n",
    "# df.info()\n",
    "X_train, X_test, y_train, y_test = train_test_split(X, y, test_size=0.1, random_state=42)"
   ]
  },
  {
   "cell_type": "code",
   "execution_count": 322,
   "outputs": [
    {
     "name": "stdout",
     "output_type": "stream",
     "text": [
      "RMSE:88.88138789633201\n",
      "R2_score:0.2732806018675703\n"
     ]
    }
   ],
   "source": [
    "from sklearn.metrics import r2_score\n",
    "from sklearn import metrics\n",
    "from sklearn.tree import DecisionTreeClassifier\n",
    "from sklearn.ensemble import AdaBoostClassifier, GradientBoostingClassifier, HistGradientBoostingClassifier\n",
    "import numpy as np\n",
    "import xgboost as xgb\n",
    "# model = RandomForestRegressor()\n",
    "model = xgb.XGBRegressor()\n",
    "model.fit(X_train, y_train)\n",
    "print(f'RMSE:{np.sqrt(metrics.mean_squared_error(model.predict(X_test), y_test))}')\n",
    "print(f'R2_score:{r2_score(model.predict(X_test),y_test)}')\n"
   ],
   "metadata": {
    "collapsed": false,
    "pycharm": {
     "name": "#%%\n"
    }
   }
  },
  {
   "cell_type": "code",
   "execution_count": 323,
   "metadata": {
    "pycharm": {
     "name": "#%%\n"
    }
   },
   "outputs": [
    {
     "name": "stderr",
     "output_type": "stream",
     "text": [
      "C:\\Users\\Lenovo\\AppData\\Local\\Temp\\ipykernel_17780\\3405882561.py:3: DtypeWarning: Columns (30) have mixed types. Specify dtype option on import or set low_memory=False.\n",
      "  test_df = pd.read_csv('test.csv')\n"
     ]
    },
    {
     "name": "stdout",
     "output_type": "stream",
     "text": [
      "17337\n"
     ]
    }
   ],
   "source": [
    "import pandas as pd\n",
    "\n",
    "test_df = pd.read_csv('test.csv')\n",
    "\n",
    "\n",
    "test_ids, test_X = [], []\n",
    "for (idx, row) in test_df.iterrows():\n",
    "    feature = create_feature(row)\n",
    "    test_ids.append(row.id)\n",
    "    test_X.append(feature)\n",
    "test_y = model.predict(test_X)\n",
    "\n",
    "\n",
    "print(len(test_y))\n",
    "\n",
    "\n",
    "output_df = pd.DataFrame()\n",
    "output_df['Id'] = test_ids\n",
    "output_df['Predicted'] = test_y\n",
    "output_df.to_csv('simple_linear_regression_baseline.csv', index = False)\n",
    "\n"
   ]
  }
 ],
 "metadata": {
  "kernelspec": {
   "display_name": "Python 3",
   "language": "python",
   "name": "python3"
  },
  "language_info": {
   "codemirror_mode": {
    "name": "ipython",
    "version": 3
   },
   "file_extension": ".py",
   "mimetype": "text/x-python",
   "name": "python",
   "nbconvert_exporter": "python",
   "pygments_lexer": "ipython3",
   "version": "3.7.4"
  }
 },
 "nbformat": 4,
 "nbformat_minor": 2
}