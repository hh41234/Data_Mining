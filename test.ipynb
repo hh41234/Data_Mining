{
 "cells": [
  {
   "cell_type": "code",
   "execution_count": 21,
   "metadata": {},
   "outputs": [
    {
     "name": "stderr",
     "output_type": "stream",
     "text": [
      "C:\\Users\\Lenovo\\AppData\\Local\\Temp\\ipykernel_12156\\1663654670.py:3: DtypeWarning: Columns (30) have mixed types. Specify dtype option on import or set low_memory=False.\n",
      "  train_data = pd.read_csv('train.csv')\n"
     ]
    }
   ],
   "source": [
    "import pandas as pd\n",
    "\n",
    "train_data = pd.read_csv('train.csv')"
   ]
  },
  {
   "cell_type": "code",
   "execution_count": 22,
   "metadata": {},
   "outputs": [
    {
     "name": "stdout",
     "output_type": "stream",
     "text": [
      "33538\n"
     ]
    }
   ],
   "source": [
    "print(len(train_data))"
   ]
  },
  {
   "cell_type": "code",
   "execution_count": 23,
   "metadata": {},
   "outputs": [
    {
     "data": {
      "text/plain": "Index(['id', 'name', 'summary', 'space', 'description', 'experiences_offered',\n       'neighborhood_overview', 'notes', 'transit', 'access', 'interaction',\n       'house_rules', 'host_id', 'host_name', 'host_since', 'host_location',\n       'host_about', 'host_response_time', 'host_response_rate',\n       'host_acceptance_rate', 'host_is_superhost', 'host_neighbourhood',\n       'host_listings_count', 'host_verifications', 'host_has_profile_pic',\n       'host_identity_verified', 'neighbourhood_cleansed',\n       'neighbourhood_group_cleansed', 'city', 'state', 'zipcode', 'market',\n       'country_code', 'country', 'property_type', 'room_type', 'accommodates',\n       'bathrooms', 'bedrooms', 'beds', 'bed_type', 'amenities', 'square_feet',\n       'price', 'guests_included', 'extra_people', 'minimum_nights',\n       'maximum_nights', 'number_of_reviews', 'first_review', 'last_review',\n       'review_scores_rating', 'review_scores_accuracy',\n       'review_scores_cleanliness', 'review_scores_checkin',\n       'review_scores_communication', 'review_scores_location',\n       'review_scores_value', 'instant_bookable', 'is_business_travel_ready',\n       'cancellation_policy', 'require_guest_profile_picture',\n       'require_guest_phone_verification', 'calculated_host_listings_count',\n       'reviews_per_month'],\n      dtype='object')"
     },
     "execution_count": 23,
     "metadata": {},
     "output_type": "execute_result"
    }
   ],
   "source": [
    "train_data.columns"
   ]
  },
  {
   "cell_type": "code",
   "execution_count": 24,
   "metadata": {},
   "outputs": [
    {
     "data": {
      "text/plain": "<Axes: >"
     },
     "execution_count": 24,
     "metadata": {},
     "output_type": "execute_result"
    },
    {
     "data": {
      "text/plain": "<Figure size 640x480 with 1 Axes>",
      "image/png": "[encoded data removed]"
     },
     "metadata": {},
     "output_type": "display_data"
    }
   ],
   "source": [
    "train_data['price'].hist(bins = 1000)"
   ]
  },
  {
   "cell_type": "code",
   "execution_count": 25,
   "outputs": [],
   "source": [
    "train_data = train_data.drop(train_data[(train_data['accommodates']<3) &\n",
    "                                        (train_data['price']>1600)].index)\n",
    "\n",
    "train_data = train_data.drop(train_data[(train_data['beds']>13) &\n",
    "                                        (train_data['price']<1200)].index)\n",
    "\n",
    "train_data = train_data.drop(train_data[(train_data['bedrooms']>7.5) &\n",
    "                                        (train_data['price']<1200)].index)\n",
    "\n",
    "train_data = train_data.drop(train_data[(train_data['square_feet']>2200) &\n",
    "                                        (train_data['price']<1000)].index)\n",
    "\n",
    "train_data = train_data.drop(train_data[(train_data['guests_included']>12) &\n",
    "                                        (train_data['price']<1000)].index)\n",
    "\n",
    "train_data = train_data.drop(train_data[(train_data['bathrooms']>10) &\n",
    "                                        (train_data['price']<1000)].index)\n",
    "\n",
    "train_data = train_data.drop(train_data[(train_data['review_scores_location']<3) &\n",
    "                                        (train_data['price']>300)].index)\n",
    "\n",
    "train_data = train_data.drop(train_data[(train_data['calculated_host_listings_count']>100) &\n",
    "                                        (train_data['price']>1000)].index)\n",
    "train_data = train_data.drop(train_data[(train_data['review_scores_cleanliness']<9) &\n",
    "                                        (train_data['price']>1500)].index)\n",
    "train_data = train_data.drop(train_data[(train_data['review_scores_rating']<40) &\n",
    "                                        (train_data['price']>500)].index)\n",
    "train_data = train_data.drop(train_data[(train_data['number_of_reviews']>3500) &\n",
    "                                        (train_data['price']>300)].index)\n",
    "train_data = train_data.drop(train_data[(train_data['review_scores_value']<2.5) &\n",
    "                                        (train_data['price']>500)].index)\n",
    "train_data = train_data.drop(train_data[(train_data['minimum_nights']>700) &\n",
    "                                        (train_data['price']>100)].index)"
   ],
   "metadata": {
    "collapsed": false,
    "pycharm": {
     "name": "#%%\n"
    }
   }
  },
  {
   "cell_type": "code",
   "execution_count": 26,
   "outputs": [],
   "source": [
    "cols1 = [\"host_response_time\",\"host_location\",\"market\",\"city\",\"state\",\"host_is_superhost\",\"host_has_profile_pic\",\"host_identity_verified\"]\n",
    "for col in cols1:\n",
    "    train_data[col].fillna(\"None\", inplace=True)"
   ],
   "metadata": {
    "collapsed": false,
    "pycharm": {
     "name": "#%%\n"
    }
   }
  },
  {
   "cell_type": "code",
   "execution_count": 27,
   "outputs": [
    {
     "data": {
      "text/plain": "0        100.0%\n1        100.0%\n2        100.0%\n3        100.0%\n4        100.0%\n          ...  \n33533    100.0%\n33534    100.0%\n33535    100.0%\n33536    100.0%\n33537     92.0%\nName: host_response_rate, Length: 33499, dtype: object"
     },
     "execution_count": 27,
     "metadata": {},
     "output_type": "execute_result"
    }
   ],
   "source": [
    "cols = [\"review_scores_value\",\"review_scores_checkin\",\"review_scores_location\",\"review_scores_accuracy\",\"review_scores_communication\",\"review_scores_cleanliness\",\"review_scores_rating\",\"reviews_per_month\",\"zipcode\",\"bathrooms\",\"bedrooms\",\"bedrooms\",\"beds\",\"host_listings_count\"]\n",
    "for col in cols:\n",
    "    train_data[col].fillna(0, inplace=True)\n",
    "\n",
    "train_data['price'] = train_data['price'].fillna(train_data['price'].mean())\n",
    "train_data['host_response_rate'] = train_data['host_response_rate'].str.strip('%').astype(float)\n",
    "\n",
    "median_response_rate = train_data['host_response_rate'].median()\n",
    "train_data['host_response_rate'].fillna(median_response_rate, inplace=True)\n",
    "train_data['host_response_rate'] = train_data['host_response_rate'].astype(str) + '%'\n",
    "train_data['host_response_rate']"
   ],
   "metadata": {
    "collapsed": false,
    "pycharm": {
     "name": "#%%\n"
    }
   }
  },
  {
   "cell_type": "code",
   "execution_count": 28,
   "outputs": [
    {
     "name": "stdout",
     "output_type": "stream",
     "text": [
      "5\n"
     ]
    }
   ],
   "source": [
    "from math import isnan\n",
    "\n",
    "def to_float(s):\n",
    "    try:\n",
    "        ret = float(s)\n",
    "    except:\n",
    "        ret = -1\n",
    "    if isnan(ret):\n",
    "        ret = -1\n",
    "    return ret\n",
    "\n",
    "def to_int(s):\n",
    "    try:\n",
    "        ret = int(s)\n",
    "    except:\n",
    "        ret = -1\n",
    "    return ret\n",
    "\n",
    "categories1 = [x for x in list(set(train_data['neighbourhood_group_cleansed'])) if type(x) is str]\n",
    "categories3 = [x for x in list(set(train_data['host_response_time'])) if type(x) is str]\n",
    "categories4 = [x for x in list(set(train_data['host_response_rate'])) if type(x) is str]\n",
    "categories5 = [x for x in list(set(train_data['host_is_superhost'])) if type(x) is str]\n",
    "categories6 = [x for x in list(set(train_data['host_has_profile_pic'])) if type(x) is str]\n",
    "categories7 = [x for x in list(set(train_data['host_identity_verified'])) if type(x) is str]\n",
    "categories8 = [x for x in list(set(train_data['property_type'])) if type(x) is str]\n",
    "categories9 = [x for x in list(set(train_data['room_type'])) if type(x) is str]\n",
    "categories10 = [x for x in list(set(train_data['bed_type'])) if type(x) is str]\n",
    "categories11 = [x for x in list(set(train_data['instant_bookable'])) if type(x) is str]\n",
    "categories12 = [x for x in list(set(train_data['is_business_travel_ready'])) if type(x) is str]\n",
    "categories13 = [x for x in list(set(train_data['cancellation_policy'])) if type(x) is str]\n",
    "categories14 = [x for x in list(set(train_data['require_guest_profile_picture'])) if type(x) is str]\n",
    "categories15 = [x for x in list(set(train_data['require_guest_phone_verification'])) if type(x) is str]\n",
    "\n",
    "print(len(categories1))\n",
    "\n",
    "def create_feature(row):\n",
    "    guest_num = to_int(row.guests_included)\n",
    "    guest_cap = to_int(row.extra_people)\n",
    "    bedrooms = to_int(row.bedrooms)\n",
    "    bathrooms = to_int(row.bathrooms)\n",
    "    accommodates = to_int(row.accommodates)\n",
    "    beds = to_int(row.beds)\n",
    "    zipcode = to_int(row.zipcode)\n",
    "    instant_bookable = to_int(row.instant_bookable)\n",
    "    reviews_per_month = to_float(row.reviews_per_month)\n",
    "    review = to_float(row.review_scores_rating)\n",
    "    host_listings_count = to_int(row.host_listings_count)\n",
    "    review_scores_accuracy = to_int(row.review_scores_accuracy)\n",
    "    review_scores_communication = to_int(row.review_scores_communication)\n",
    "    review_scores_cleanliness = to_int(row.review_scores_cleanliness)\n",
    "    review_scores_checkin = to_int(row.review_scores_checkin)\n",
    "    review_scores_value = to_int(row.review_scores_value)\n",
    "    minimum_nights = to_int(row.minimum_nights)\n",
    "    maximum_nights = to_int(row.maximum_nights)\n",
    "    number_of_reviews = to_int(row.number_of_reviews)\n",
    "    one_hot1 = [int(row.neighbourhood_group_cleansed == category) for category in categories1]\n",
    "    one_hot3 = [int(row.host_response_time == category) for category in categories3]\n",
    "    one_hot4 = [int(row.host_response_rate == category) for category in categories4]\n",
    "    one_hot5 = [int(row.host_is_superhost == category) for category in categories5]\n",
    "    one_hot6 = [int(row.host_has_profile_pic == category) for category in categories6]\n",
    "    one_hot7 = [int(row.host_identity_verified == category) for category in categories7]\n",
    "    one_hot8 = [int(row.property_type == category) for category in categories8]\n",
    "    one_hot9 = [int(row.room_type == category) for category in categories9]\n",
    "    one_hot10 = [int(row.bed_type == category) for category in categories10]\n",
    "    one_hot11 = [int(row.instant_bookable == category) for category in categories11]\n",
    "    one_hot12 = [int(row.is_business_travel_ready == category) for category in categories12]\n",
    "    one_hot13 = [int(row.cancellation_policy == category) for category in categories13]\n",
    "    one_hot14 = [int(row.require_guest_profile_picture == category) for category in categories14]\n",
    "    one_hot15 = [int(row.require_guest_phone_verification == category) for category in categories15]\n",
    "\n",
    "\n",
    "    return [guest_num, guest_cap, bedrooms, bathrooms,\n",
    "            accommodates, beds, zipcode, instant_bookable,\n",
    "            reviews_per_month, host_listings_count,\n",
    "            review_scores_accuracy, review_scores_communication,\n",
    "            review_scores_cleanliness, review_scores_checkin,\n",
    "            review_scores_value, minimum_nights, maximum_nights,\n",
    "            number_of_reviews, review] + one_hot1 + one_hot3 + one_hot4 + one_hot5 + one_hot6 + one_hot7 + one_hot8 + one_hot9 + one_hot10 + one_hot11 + one_hot12 + one_hot13 + one_hot14 + one_hot15"
   ],
   "metadata": {
    "collapsed": false,
    "pycharm": {
     "name": "#%%\n"
    }
   }
  },
  {
   "cell_type": "code",
   "execution_count": 29,
   "outputs": [
    {
     "name": "stdout",
     "output_type": "stream",
     "text": [
      "33499 33499\n"
     ]
    }
   ],
   "source": [
    "X, y = [], []\n",
    "for (idx, row) in train_data.iterrows():\n",
    "    price = float(row.price)\n",
    "    feature = create_feature(row)\n",
    "\n",
    "    X.append(feature)\n",
    "    y.append(price)\n",
    "\n",
    "print(len(X), len(y))"
   ],
   "metadata": {
    "collapsed": false,
    "pycharm": {
     "name": "#%%\n"
    }
   }
  },
  {
   "cell_type": "code",
   "execution_count": 30,
   "metadata": {},
   "outputs": [],
   "source": [
    "from sklearn import linear_model\n",
    "from sklearn.model_selection import train_test_split\n",
    "from sklearn.model_selection import GridSearchCV\n",
    "from sklearn.ensemble import RandomForestRegressor\n",
    "\n",
    "\n",
    "X_train, X_test, y_train, y_test = train_test_split(X, y, test_size=0.2, random_state=42)"
   ]
  },
  {
   "cell_type": "code",
   "execution_count": 31,
   "outputs": [],
   "source": [
    "from sklearn.decomposition import PCA\n",
    "\n",
    "pca = PCA(n_components=165)\n",
    "X_train=pca.fit_transform(X_train)\n",
    "X_test = pca.transform(X_test)\n",
    "y_log = train_data.price"
   ],
   "metadata": {
    "collapsed": false,
    "pycharm": {
     "name": "#%%\n"
    }
   }
  },
  {
   "cell_type": "code",
   "execution_count": 32,
   "outputs": [],
   "source": [
    "import numpy as np\n",
    "from sklearn.model_selection import cross_val_score\n",
    "\n",
    "\n",
    "def rmse_cv(model,X,y):\n",
    "    rmse = np.sqrt(-cross_val_score(model, X, y, scoring=\"neg_mean_squared_error\", cv=5))\n",
    "    return rmse"
   ],
   "metadata": {
    "collapsed": false,
    "pycharm": {
     "name": "#%%\n"
    }
   }
  },
  {
   "cell_type": "code",
   "execution_count": 33,
   "outputs": [],
   "source": [
    "from sklearn.kernel_ridge import KernelRidge\n",
    "from sklearn.svm import SVR, LinearSVR\n",
    "from sklearn.ensemble import RandomForestRegressor, GradientBoostingRegressor, ExtraTreesRegressor\n",
    "from sklearn.linear_model import LinearRegression, Ridge, ElasticNet, SGDRegressor, BayesianRidge, Lasso\n",
    "\n",
    "models = [LinearRegression(),Ridge(),Lasso(alpha=0.01,max_iter=10000),RandomForestRegressor(),GradientBoostingRegressor(),SVR(),LinearSVR(),\n",
    "          ElasticNet(alpha=0.001,max_iter=10000),SGDRegressor(max_iter=1000,tol=1e-3),BayesianRidge(),KernelRidge(alpha=0.6, kernel='polynomial', degree=2, coef0=2.5),\n",
    "          ExtraTreesRegressor()]"
   ],
   "metadata": {
    "collapsed": false,
    "pycharm": {
     "name": "#%%\n"
    }
   }
  },
  {
   "cell_type": "code",
   "execution_count": 34,
   "outputs": [],
   "source": [
    "names = [\"LR\", \"Ridge\", \"Lasso\", \"RF\", \"GBR\", \"SVR\", \"LinSVR\", \"Ela\",\"SGD\",\"Bay\",\"Ker\",\"Extra\"]\n"
   ],
   "metadata": {
    "collapsed": false,
    "pycharm": {
     "name": "#%%\n"
    }
   }
  },
  {
   "cell_type": "code",
   "execution_count": 35,
   "outputs": [],
   "source": [
    "from sklearn.base import BaseEstimator, clone, RegressorMixin\n",
    "\n",
    "\n",
    "# param_grid = [\n",
    "# {'n_estimators': [3, 30,60], 'max_features': [2, 4, 6, 8]},\n",
    "# {'n_estimators':[1,10,100],'max_features':('auto','sqrt','log2')}\n",
    "# ]\n",
    "# forest_reg = RandomForestRegressor(max_features='auto')\n",
    "# # grid_search = GridSearchCV(forest_reg, param_grid, cv=5,\n",
    "# # scoring='neg_mean_squared_error')\n",
    "# forest_reg.fit(X_train, y_train)\n",
    "# print(f'Training accuracy: {forest_reg.score(X_train, y_train)}')\n",
    "# print(f'Test accuracy: {forest_reg.score(X_test, y_test)}')\n",
    "class AverageWeight(BaseEstimator, RegressorMixin):\n",
    "    def __init__(self,mod,weight):\n",
    "        self.mod = mod\n",
    "        self.weight = weight\n",
    "\n",
    "    def fit(self,X,y):\n",
    "        self.models_ = [clone(x) for x in self.mod]\n",
    "        for model in self.models_:\n",
    "            model.fit(X,y)\n",
    "        return self\n",
    "\n",
    "    def predict(self,X):\n",
    "        w = list()\n",
    "        pred = np.array([model.predict(X) for model in self.models_])\n",
    "        # for every data point, single model prediction times weight, then add them together\n",
    "        for data in range(pred.shape[1]):\n",
    "            single = [pred[model,data]*weight for model,weight in zip(range(pred.shape[0]),self.weight)]\n",
    "            w.append(np.sum(single))\n",
    "        return w"
   ],
   "metadata": {
    "collapsed": false,
    "pycharm": {
     "name": "#%%\n"
    }
   }
  },
  {
   "cell_type": "code",
   "execution_count": 36,
   "outputs": [],
   "source": [
    "ranfor = RandomForestRegressor()\n",
    "lasso = Lasso(alpha=0.0005,max_iter=10000)\n",
    "ridge = Ridge(alpha=60)\n",
    "svr = SVR(gamma= 0.0004,kernel='rbf',C=13,epsilon=0.009)\n",
    "ker = KernelRidge(alpha=0.2 ,kernel='polynomial',degree=3 , coef0=0.8)\n",
    "ela = ElasticNet(alpha=0.005,l1_ratio=0.08,max_iter=10000)\n",
    "bay = BayesianRidge()"
   ],
   "metadata": {
    "collapsed": false,
    "pycharm": {
     "name": "#%%\n"
    }
   }
  },
  {
   "cell_type": "code",
   "execution_count": 37,
   "metadata": {},
   "outputs": [],
   "source": [
    "w0 = 0.2\n",
    "w1 = 0.02\n",
    "w2 = 0.2\n",
    "w3 = 0.15\n",
    "w4 = 0.2\n",
    "w5 = 0.03\n",
    "w6 = 0.2"
   ]
  },
  {
   "cell_type": "code",
   "execution_count": 38,
   "outputs": [
    {
     "ename": "ValueError",
     "evalue": "Found input variables with inconsistent numbers of samples: [26799, 33499]",
     "output_type": "error",
     "traceback": [
      "\u001B[1;31m---------------------------------------------------------------------------\u001B[0m",
      "\u001B[1;31mValueError\u001B[0m                                Traceback (most recent call last)",
      "Cell \u001B[1;32mIn[38], line 2\u001B[0m\n\u001B[0;32m      1\u001B[0m weight_avg \u001B[38;5;241m=\u001B[39m AverageWeight(mod \u001B[38;5;241m=\u001B[39m [ranfor,lasso,ridge,svr,ker,ela,bay],weight\u001B[38;5;241m=\u001B[39m[w0,w1,w2,w3,w4,w5,w6])\n\u001B[1;32m----> 2\u001B[0m score \u001B[38;5;241m=\u001B[39m \u001B[43mrmse_cv\u001B[49m\u001B[43m(\u001B[49m\u001B[43mweight_avg\u001B[49m\u001B[43m,\u001B[49m\u001B[43mX_train\u001B[49m\u001B[43m,\u001B[49m\u001B[43my_log\u001B[49m\u001B[43m)\u001B[49m\n\u001B[0;32m      3\u001B[0m \u001B[38;5;28mprint\u001B[39m(score\u001B[38;5;241m.\u001B[39mmean())\n",
      "Cell \u001B[1;32mIn[32], line 6\u001B[0m, in \u001B[0;36mrmse_cv\u001B[1;34m(model, X, y)\u001B[0m\n\u001B[0;32m      5\u001B[0m \u001B[38;5;28;01mdef\u001B[39;00m \u001B[38;5;21mrmse_cv\u001B[39m(model,X,y):\n\u001B[1;32m----> 6\u001B[0m     rmse \u001B[38;5;241m=\u001B[39m np\u001B[38;5;241m.\u001B[39msqrt(\u001B[38;5;241m-\u001B[39m\u001B[43mcross_val_score\u001B[49m\u001B[43m(\u001B[49m\u001B[43mmodel\u001B[49m\u001B[43m,\u001B[49m\u001B[43m \u001B[49m\u001B[43mX\u001B[49m\u001B[43m,\u001B[49m\u001B[43m \u001B[49m\u001B[43my\u001B[49m\u001B[43m,\u001B[49m\u001B[43m \u001B[49m\u001B[43mscoring\u001B[49m\u001B[38;5;241;43m=\u001B[39;49m\u001B[38;5;124;43m\"\u001B[39;49m\u001B[38;5;124;43mneg_mean_squared_error\u001B[39;49m\u001B[38;5;124;43m\"\u001B[39;49m\u001B[43m,\u001B[49m\u001B[43m \u001B[49m\u001B[43mcv\u001B[49m\u001B[38;5;241;43m=\u001B[39;49m\u001B[38;5;241;43m5\u001B[39;49m\u001B[43m)\u001B[49m)\n\u001B[0;32m      7\u001B[0m     \u001B[38;5;28;01mreturn\u001B[39;00m rmse\n",
      "File \u001B[1;32mf:\\python\\venv\\lib\\site-packages\\sklearn\\model_selection\\_validation.py:515\u001B[0m, in \u001B[0;36mcross_val_score\u001B[1;34m(estimator, X, y, groups, scoring, cv, n_jobs, verbose, fit_params, pre_dispatch, error_score)\u001B[0m\n\u001B[0;32m    512\u001B[0m \u001B[38;5;66;03m# To ensure multimetric format is not supported\u001B[39;00m\n\u001B[0;32m    513\u001B[0m scorer \u001B[38;5;241m=\u001B[39m check_scoring(estimator, scoring\u001B[38;5;241m=\u001B[39mscoring)\n\u001B[1;32m--> 515\u001B[0m cv_results \u001B[38;5;241m=\u001B[39m \u001B[43mcross_validate\u001B[49m\u001B[43m(\u001B[49m\n\u001B[0;32m    516\u001B[0m \u001B[43m    \u001B[49m\u001B[43mestimator\u001B[49m\u001B[38;5;241;43m=\u001B[39;49m\u001B[43mestimator\u001B[49m\u001B[43m,\u001B[49m\n\u001B[0;32m    517\u001B[0m \u001B[43m    \u001B[49m\u001B[43mX\u001B[49m\u001B[38;5;241;43m=\u001B[39;49m\u001B[43mX\u001B[49m\u001B[43m,\u001B[49m\n\u001B[0;32m    518\u001B[0m \u001B[43m    \u001B[49m\u001B[43my\u001B[49m\u001B[38;5;241;43m=\u001B[39;49m\u001B[43my\u001B[49m\u001B[43m,\u001B[49m\n\u001B[0;32m    519\u001B[0m \u001B[43m    \u001B[49m\u001B[43mgroups\u001B[49m\u001B[38;5;241;43m=\u001B[39;49m\u001B[43mgroups\u001B[49m\u001B[43m,\u001B[49m\n\u001B[0;32m    520\u001B[0m \u001B[43m    \u001B[49m\u001B[43mscoring\u001B[49m\u001B[38;5;241;43m=\u001B[39;49m\u001B[43m{\u001B[49m\u001B[38;5;124;43m\"\u001B[39;49m\u001B[38;5;124;43mscore\u001B[39;49m\u001B[38;5;124;43m\"\u001B[39;49m\u001B[43m:\u001B[49m\u001B[43m \u001B[49m\u001B[43mscorer\u001B[49m\u001B[43m}\u001B[49m\u001B[43m,\u001B[49m\n\u001B[0;32m    521\u001B[0m \u001B[43m    \u001B[49m\u001B[43mcv\u001B[49m\u001B[38;5;241;43m=\u001B[39;49m\u001B[43mcv\u001B[49m\u001B[43m,\u001B[49m\n\u001B[0;32m    522\u001B[0m \u001B[43m    \u001B[49m\u001B[43mn_jobs\u001B[49m\u001B[38;5;241;43m=\u001B[39;49m\u001B[43mn_jobs\u001B[49m\u001B[43m,\u001B[49m\n\u001B[0;32m    523\u001B[0m \u001B[43m    \u001B[49m\u001B[43mverbose\u001B[49m\u001B[38;5;241;43m=\u001B[39;49m\u001B[43mverbose\u001B[49m\u001B[43m,\u001B[49m\n\u001B[0;32m    524\u001B[0m \u001B[43m    \u001B[49m\u001B[43mfit_params\u001B[49m\u001B[38;5;241;43m=\u001B[39;49m\u001B[43mfit_params\u001B[49m\u001B[43m,\u001B[49m\n\u001B[0;32m    525\u001B[0m \u001B[43m    \u001B[49m\u001B[43mpre_dispatch\u001B[49m\u001B[38;5;241;43m=\u001B[39;49m\u001B[43mpre_dispatch\u001B[49m\u001B[43m,\u001B[49m\n\u001B[0;32m    526\u001B[0m \u001B[43m    \u001B[49m\u001B[43merror_score\u001B[49m\u001B[38;5;241;43m=\u001B[39;49m\u001B[43merror_score\u001B[49m\u001B[43m,\u001B[49m\n\u001B[0;32m    527\u001B[0m \u001B[43m\u001B[49m\u001B[43m)\u001B[49m\n\u001B[0;32m    528\u001B[0m \u001B[38;5;28;01mreturn\u001B[39;00m cv_results[\u001B[38;5;124m\"\u001B[39m\u001B[38;5;124mtest_score\u001B[39m\u001B[38;5;124m\"\u001B[39m]\n",
      "File \u001B[1;32mf:\\python\\venv\\lib\\site-packages\\sklearn\\model_selection\\_validation.py:252\u001B[0m, in \u001B[0;36mcross_validate\u001B[1;34m(estimator, X, y, groups, scoring, cv, n_jobs, verbose, fit_params, pre_dispatch, return_train_score, return_estimator, error_score)\u001B[0m\n\u001B[0;32m     49\u001B[0m \u001B[38;5;28;01mdef\u001B[39;00m \u001B[38;5;21mcross_validate\u001B[39m(\n\u001B[0;32m     50\u001B[0m     estimator,\n\u001B[0;32m     51\u001B[0m     X,\n\u001B[1;32m   (...)\u001B[0m\n\u001B[0;32m     63\u001B[0m     error_score\u001B[38;5;241m=\u001B[39mnp\u001B[38;5;241m.\u001B[39mnan,\n\u001B[0;32m     64\u001B[0m ):\n\u001B[0;32m     65\u001B[0m \u001B[38;5;250m    \u001B[39m\u001B[38;5;124;03m\"\"\"Evaluate metric(s) by cross-validation and also record fit/score times.\u001B[39;00m\n\u001B[0;32m     66\u001B[0m \n\u001B[0;32m     67\u001B[0m \u001B[38;5;124;03m    Read more in the :ref:`User Guide <multimetric_cross_validation>`.\u001B[39;00m\n\u001B[1;32m   (...)\u001B[0m\n\u001B[0;32m    250\u001B[0m \u001B[38;5;124;03m    [0.28009951 0.3908844  0.22784907]\u001B[39;00m\n\u001B[0;32m    251\u001B[0m \u001B[38;5;124;03m    \"\"\"\u001B[39;00m\n\u001B[1;32m--> 252\u001B[0m     X, y, groups \u001B[38;5;241m=\u001B[39m \u001B[43mindexable\u001B[49m\u001B[43m(\u001B[49m\u001B[43mX\u001B[49m\u001B[43m,\u001B[49m\u001B[43m \u001B[49m\u001B[43my\u001B[49m\u001B[43m,\u001B[49m\u001B[43m \u001B[49m\u001B[43mgroups\u001B[49m\u001B[43m)\u001B[49m\n\u001B[0;32m    254\u001B[0m     cv \u001B[38;5;241m=\u001B[39m check_cv(cv, y, classifier\u001B[38;5;241m=\u001B[39mis_classifier(estimator))\n\u001B[0;32m    256\u001B[0m     \u001B[38;5;28;01mif\u001B[39;00m callable(scoring):\n",
      "File \u001B[1;32mf:\\python\\venv\\lib\\site-packages\\sklearn\\utils\\validation.py:443\u001B[0m, in \u001B[0;36mindexable\u001B[1;34m(*iterables)\u001B[0m\n\u001B[0;32m    424\u001B[0m \u001B[38;5;250m\u001B[39m\u001B[38;5;124;03m\"\"\"Make arrays indexable for cross-validation.\u001B[39;00m\n\u001B[0;32m    425\u001B[0m \n\u001B[0;32m    426\u001B[0m \u001B[38;5;124;03mChecks consistent length, passes through None, and ensures that everything\u001B[39;00m\n\u001B[1;32m   (...)\u001B[0m\n\u001B[0;32m    439\u001B[0m \u001B[38;5;124;03m    sparse matrix, or dataframe) or `None`.\u001B[39;00m\n\u001B[0;32m    440\u001B[0m \u001B[38;5;124;03m\"\"\"\u001B[39;00m\n\u001B[0;32m    442\u001B[0m result \u001B[38;5;241m=\u001B[39m [_make_indexable(X) \u001B[38;5;28;01mfor\u001B[39;00m X \u001B[38;5;129;01min\u001B[39;00m iterables]\n\u001B[1;32m--> 443\u001B[0m \u001B[43mcheck_consistent_length\u001B[49m\u001B[43m(\u001B[49m\u001B[38;5;241;43m*\u001B[39;49m\u001B[43mresult\u001B[49m\u001B[43m)\u001B[49m\n\u001B[0;32m    444\u001B[0m \u001B[38;5;28;01mreturn\u001B[39;00m result\n",
      "File \u001B[1;32mf:\\python\\venv\\lib\\site-packages\\sklearn\\utils\\validation.py:397\u001B[0m, in \u001B[0;36mcheck_consistent_length\u001B[1;34m(*arrays)\u001B[0m\n\u001B[0;32m    395\u001B[0m uniques \u001B[38;5;241m=\u001B[39m np\u001B[38;5;241m.\u001B[39munique(lengths)\n\u001B[0;32m    396\u001B[0m \u001B[38;5;28;01mif\u001B[39;00m \u001B[38;5;28mlen\u001B[39m(uniques) \u001B[38;5;241m>\u001B[39m \u001B[38;5;241m1\u001B[39m:\n\u001B[1;32m--> 397\u001B[0m     \u001B[38;5;28;01mraise\u001B[39;00m \u001B[38;5;167;01mValueError\u001B[39;00m(\n\u001B[0;32m    398\u001B[0m         \u001B[38;5;124m\"\u001B[39m\u001B[38;5;124mFound input variables with inconsistent numbers of samples: \u001B[39m\u001B[38;5;132;01m%r\u001B[39;00m\u001B[38;5;124m\"\u001B[39m\n\u001B[0;32m    399\u001B[0m         \u001B[38;5;241m%\u001B[39m [\u001B[38;5;28mint\u001B[39m(l) \u001B[38;5;28;01mfor\u001B[39;00m l \u001B[38;5;129;01min\u001B[39;00m lengths]\n\u001B[0;32m    400\u001B[0m     )\n",
      "\u001B[1;31mValueError\u001B[0m: Found input variables with inconsistent numbers of samples: [26799, 33499]"
     ]
    }
   ],
   "source": [
    "weight_avg = AverageWeight(mod = [ranfor,lasso,ridge,svr,ker,ela,bay],weight=[w0,w1,w2,w3,w4,w5,w6])\n",
    "score = rmse_cv(weight_avg,X_train,y_log)\n",
    "print(score.mean())"
   ],
   "metadata": {
    "collapsed": false,
    "pycharm": {
     "name": "#%%\n"
    }
   }
  },
  {
   "cell_type": "code",
   "execution_count": null,
   "outputs": [],
   "source": [
    "from sklearn.model_selection import KFold\n",
    "from sklearn.base import TransformerMixin\n",
    "\n",
    "\n",
    "class stacking(BaseEstimator, RegressorMixin, TransformerMixin):\n",
    "    def __init__(self,mod,meta_model):\n",
    "        self.mod = mod\n",
    "        self.meta_model = meta_model\n",
    "        self.kf = KFold(n_splits=5, random_state=42, shuffle=True)\n",
    "\n",
    "    def fit(self,X,y):\n",
    "        self.saved_model = [list() for i in self.mod]\n",
    "        oof_train = np.zeros((X.shape[0], len(self.mod)))\n",
    "\n",
    "        for i,model in enumerate(self.mod):\n",
    "            for train_index, val_index in self.kf.split(X,y):\n",
    "                renew_model = clone(model)\n",
    "                renew_model.fit(X[train_index], y[train_index])\n",
    "                self.saved_model[i].append(renew_model)\n",
    "                oof_train[val_index,i] = renew_model.predict(X[val_index])\n",
    "\n",
    "        self.meta_model.fit(oof_train,y)\n",
    "        return self\n",
    "\n",
    "    def predict(self,X):\n",
    "        whole_test = np.column_stack([np.column_stack(model.predict(X) for model in single_model).mean(axis=1)\n",
    "                                      for single_model in self.saved_model])\n",
    "        return self.meta_model.predict(whole_test)\n",
    "\n",
    "    def get_oof(self,X,y,test_X):\n",
    "        oof = np.zeros((X.shape[0],len(self.mod)))\n",
    "        test_single = np.zeros((test_X.shape[0],5))\n",
    "        test_mean = np.zeros((test_X.shape[0],len(self.mod)))\n",
    "        for i,model in enumerate(self.mod):\n",
    "            for j, (train_index,val_index) in enumerate(self.kf.split(X,y)):\n",
    "                clone_model = clone(model)\n",
    "                clone_model.fit(X[train_index],y[train_index])\n",
    "                oof[val_index,i] = clone_model.predict(X[val_index])\n",
    "                test_single[:,j] = clone_model.predict(test_X)\n",
    "            test_mean[:,i] = test_single.mean(axis=1)\n",
    "        return oof, test_mean"
   ],
   "metadata": {
    "collapsed": false,
    "pycharm": {
     "name": "#%%\n"
    }
   }
  },
  {
   "cell_type": "code",
   "execution_count": null,
   "outputs": [],
   "source": [
    "from sklearn.impute import SimpleImputer\n",
    "from pandas import NA\n",
    "imputer = SimpleImputer(missing_values=NA, strategy = \"mean\")\n",
    "a = imputer().fit_transform(X_train)\n",
    "b = imputer().fit_transform(y_log.values.reshape(-1,1)).ravel()"
   ],
   "metadata": {
    "collapsed": false,
    "pycharm": {
     "name": "#%%\n"
    }
   }
  },
  {
   "cell_type": "code",
   "execution_count": null,
   "outputs": [],
   "source": [
    "stack_model = stacking(mod=[lasso,ridge,svr,ker,ela,bay],meta_model=ker)"
   ],
   "metadata": {
    "collapsed": false,
    "pycharm": {
     "name": "#%%\n"
    }
   }
  },
  {
   "cell_type": "code",
   "execution_count": null,
   "outputs": [],
   "source": [
    "score = rmse_cv(stack_model,a,b)\n",
    "print(score.mean())"
   ],
   "metadata": {
    "collapsed": false,
    "pycharm": {
     "name": "#%%\n"
    }
   }
  },
  {
   "cell_type": "code",
   "execution_count": null,
   "outputs": [],
   "source": [
    "import pandas as pd\n",
    "\n",
    "test_df = pd.read_csv('test.csv')"
   ],
   "metadata": {
    "collapsed": false,
    "pycharm": {
     "name": "#%%\n"
    }
   }
  },
  {
   "cell_type": "code",
   "execution_count": null,
   "metadata": {},
   "outputs": [],
   "source": [
    "test_ids, test_X = [], []\n",
    "for (idx, row) in test_df.iterrows():\n",
    "    feature = create_feature(row)\n",
    "    test_ids.append(row.id)\n",
    "    test_X.append(feature)\n",
    "test_y = stack_model.predict(test_X)"
   ]
  },
  {
   "cell_type": "code",
   "execution_count": null,
   "metadata": {},
   "outputs": [],
   "source": [
    "print(len(test_y))"
   ]
  },
  {
   "cell_type": "code",
   "execution_count": null,
   "metadata": {
    "pycharm": {
     "name": "#%%\n"
    }
   },
   "outputs": [],
   "source": [
    "output_df = pd.DataFrame()\n",
    "output_df['Id'] = test_ids\n",
    "output_df['Predicted'] = test_y\n",
    "output_df.to_csv('simple_linear_regression_baseline.csv', index = False)\n",
    "\n"
   ]
  }
 ],
 "metadata": {
  "kernelspec": {
   "display_name": "Python 3",
   "language": "python",
   "name": "python3"
  },
  "language_info": {
   "codemirror_mode": {
    "name": "ipython",
    "version": 3
   },
   "file_extension": ".py",
   "mimetype": "text/x-python",
   "name": "python",
   "nbconvert_exporter": "python",
   "pygments_lexer": "ipython3",
   "version": "3.7.4"
  }
 },
 "nbformat": 4,
 "nbformat_minor": 2
}